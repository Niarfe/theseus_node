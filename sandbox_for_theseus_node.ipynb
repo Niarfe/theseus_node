{
 "cells": [
  {
   "cell_type": "code",
   "execution_count": 1,
   "metadata": {},
   "outputs": [],
   "source": [
    "import theseus\n",
    "import sys\n",
    "sys.path.append('tests/')\n",
    "import data\n",
    "import matplotlib.pyplot as plt"
   ]
  },
  {
   "cell_type": "code",
   "execution_count": 2,
   "metadata": {},
   "outputs": [],
   "source": [
    "def get_usable_text(obj):\n",
    "    tags = ['author','title','description','content']\n",
    "    return [word.lower() for tag in tags for word in obj[tag].split() if word != 'null']\n",
    "newz = [get_usable_text(obj) for obj in data.news]\n",
    "\n",
    "background = theseus.Node(newz)\n",
    "first = theseus.Node(newz[1:2])"
   ]
  },
  {
   "cell_type": "code",
   "execution_count": 3,
   "metadata": {},
   "outputs": [
    {
     "data": {
      "image/png": "[encoded data removed]",
      "text/plain": [
       "<Figure size 432x288 with 1 Axes>"
      ]
     },
     "metadata": {
      "needs_background": "light"
     },
     "output_type": "display_data"
    }
   ],
   "source": [
    "def visualize(node, background, num_labeled=10, axis_lims=(0.0, 1.0)):\n",
    "    lst_x, lst_y, keys = theseus.node.create_xy_table(node, background)\n",
    "    fig, ax = plt.subplots()\n",
    "    low, high = axis_lims\n",
    "    ax.set_xlim(low, high)\n",
    "    ax.set_ylim(low, high)\n",
    "    ax.set_aspect('equal')\n",
    "    ax.scatter(lst_x, lst_y)\n",
    "\n",
    "    for i, txt in enumerate(keys):\n",
    "        if i > num_labeled: txt = ''\n",
    "        ax.annotate(txt, (lst_x[i],lst_y[i]))\n",
    "\n",
    "    plt.show()\n",
    "\n",
    "visualize(first, background, axis_lims=(0.0, 0.1))"
   ]
  }
 ],
 "metadata": {
  "kernelspec": {
   "display_name": "Python 3",
   "language": "python",
   "name": "python3"
  },
  "language_info": {
   "codemirror_mode": {
    "name": "ipython",
    "version": 3
   },
   "file_extension": ".py",
   "mimetype": "text/x-python",
   "name": "python",
   "nbconvert_exporter": "python",
   "pygments_lexer": "ipython3",
   "version": "3.6.4"
  }
 },
 "nbformat": 4,
 "nbformat_minor": 2
}
