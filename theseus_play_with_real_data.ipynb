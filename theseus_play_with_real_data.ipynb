{
 "cells": [
  {
   "cell_type": "code",
   "execution_count": 1,
   "metadata": {},
   "outputs": [],
   "source": [
    "import theseus\n",
    "import os\n",
    "import hydraseq as hd"
   ]
  },
  {
   "cell_type": "code",
   "execution_count": 2,
   "metadata": {},
   "outputs": [
    {
     "name": "stdout",
     "output_type": "stream",
     "text": [
      "mkdir: data: File exists\n",
      "mv: rename *.txt to data/*.txt: No such file or directory\n",
      "\u001b[32mbackground.txt\u001b[m\u001b[m \u001b[32measy_ham.txt\u001b[m\u001b[m   \u001b[32mhard_ham.txt\u001b[m\u001b[m   \u001b[32mspam.txt\u001b[m\u001b[m\n"
     ]
    }
   ],
   "source": [
    "! mkdir data\n",
    "! mv *.txt data/\n",
    "! ls data/"
   ]
  },
  {
   "cell_type": "code",
   "execution_count": 3,
   "metadata": {},
   "outputs": [
    {
     "name": "stdout",
     "output_type": "stream",
     "text": [
      "\u001b[32mbackground.txt\u001b[m\u001b[m \u001b[32measy_ham.txt\u001b[m\u001b[m   \u001b[32mhard_ham.txt\u001b[m\u001b[m   \u001b[32mspam.txt\u001b[m\u001b[m\r\n"
     ]
    }
   ],
   "source": [
    "def load_documents(path_file):\n",
    "    documents = []\n",
    "    with open(path_file, 'rb') as source:\n",
    "        for line in source:\n",
    "            try:\n",
    "                documents.append(line.decode('utf-8').lower().strip().split()[1:])\n",
    "            except:\n",
    "                continue\n",
    "    return documents\n",
    "\n",
    "! ls data/\n",
    "spam = load_documents('data/spam.txt')\n",
    "easy_ham = load_documents('data/easy_ham.txt')\n",
    "hard_ham = load_documents('data/hard_ham.txt')\n",
    "background = spam + easy_ham + hard_ham"
   ]
  },
  {
   "cell_type": "code",
   "execution_count": 4,
   "metadata": {},
   "outputs": [],
   "source": [
    "n_background = theseus.Node(background)\n",
    "n_spam = theseus.Node(spam)\n",
    "n_easy_ham = theseus.Node(easy_ham)\n",
    "n_hard_ham = theseus.Node(hard_ham)"
   ]
  },
  {
   "cell_type": "code",
   "execution_count": 5,
   "metadata": {},
   "outputs": [
    {
     "name": "stdout",
     "output_type": "stream",
     "text": [
      "('fortune', (0.14285714285714285, 0.0021116138763197585))\n",
      "('500', (0.14285714285714285, 0.0021116138763197585))\n",
      "('company', (0.14285714285714285, 0.0018099547511312218))\n",
      "('at', (0.14285714285714285, 0.005429864253393665))\n",
      "('home', (0.14285714285714285, 0.0048265460030165915))\n",
      "('reps.', (0.14285714285714285, 0.0018099547511312218))\n"
     ]
    }
   ],
   "source": [
    "#theseus.node.visualize(n_spam, n_background, axis_lims=(0.0, 0.3), magnification=10.0)\n",
    "idx = 6\n",
    "x, y, keys = theseus.node.create_xy_table(theseus.Node(spam[idx:idx+1]), n_spam, cutoff1=100, cutoff2=100, ratio=0.20)\n",
    "for row in zip(keys, zip(x, y)):\n",
    "    if row[1][1] != 0:\n",
    "        print(row)"
   ]
  },
  {
   "cell_type": "code",
   "execution_count": 6,
   "metadata": {
    "scrolled": true
   },
   "outputs": [
    {
     "name": "stdout",
     "output_type": "stream",
     "text": [
      "17.06827309236948  percent predicted are  spam  has  85  hits out of  498\n",
      "1.76678445229682  percent predicted are  hard_ham  has  5  hits out of  283\n",
      "1.9700839109813937  percent predicted are  easy_ham  has  54  hits out of  2741\n"
     ]
    }
   ],
   "source": [
    "def count_hits(group, target, friendly_name, limit, ratio):\n",
    "    hits = 0\n",
    "    lgroup = len(group)\n",
    "    total = len(background)\n",
    "    for idx in range(total):\n",
    "        x, y, keys = theseus.node.create_xy_table(theseus.Node(group[idx:idx+1]), target, cutoff1=100, cutoff2=100, ratio=ratio)\n",
    "        thits = [ row[1][1] for row in zip(keys, zip(x, y)) if row[1][1] != 0]\n",
    "        if len(thits) > limit:\n",
    "            hits += 1\n",
    "    percent = float(hits)/lgroup * 100\n",
    "    print(percent, \" percent predicted are \", friendly_name, \" has \", hits, \" hits out of \", lgroup)\n",
    "\n",
    "limit = 4\n",
    "ratio = 0.4\n",
    "target = n_spam\n",
    "count_hits(spam,     target, \"spam\",     limit, ratio)\n",
    "count_hits(hard_ham, target, \"hard_ham\", limit, ratio)\n",
    "count_hits(easy_ham, target, \"easy_ham\", limit, ratio)"
   ]
  },
  {
   "cell_type": "code",
   "execution_count": 63,
   "metadata": {},
   "outputs": [
    {
     "data": {
      "text/plain": [
       "50831"
      ]
     },
     "execution_count": 63,
     "metadata": {},
     "output_type": "execute_result"
    }
   ],
   "source": [
    "hdr = hd.Hydraseq('')\n",
    "for sentence in background:\n",
    "    hdr.full_insert(\" \".join(sentence))\n",
    "len(hdr.columns)"
   ]
  },
  {
   "cell_type": "code",
   "execution_count": 64,
   "metadata": {},
   "outputs": [
    {
     "name": "stdout",
     "output_type": "stream",
     "text": [
      "guaranteed to lose 10-12 lbs in 30 days 11.150\n",
      "---------------------------------------------------\n",
      "_49 \t [[guaranteed]]\n",
      "_50 \t [[guaranteed], [to]]\n",
      "_65 \t [[to]]\n",
      "_51 \t [[guaranteed], [to], [lose]]\n",
      "_66 \t [[to], [lose]]\n",
      "_79 \t [[lose]]\n",
      "_52 \t [[guaranteed], [to], [lose], [10-12]]\n",
      "_67 \t [[to], [lose], [10-12]]\n",
      "_80 \t [[lose], [10-12]]\n",
      "_91 \t [[10-12]]\n",
      "_53 \t [[guaranteed], [to], [lose], [10-12], [lbs]]\n",
      "_68 \t [[to], [lose], [10-12], [lbs]]\n",
      "_81 \t [[lose], [10-12], [lbs]]\n",
      "_92 \t [[10-12], [lbs]]\n",
      "_101 \t [[lbs]]\n",
      "_54 \t [[guaranteed], [to], [lose], [10-12], [lbs], [in]]\n",
      "_69 \t [[to], [lose], [10-12], [lbs], [in]]\n",
      "_82 \t [[lose], [10-12], [lbs], [in]]\n",
      "_93 \t [[10-12], [lbs], [in]]\n",
      "_102 \t [[lbs], [in]]\n",
      "_109 \t [[in]]\n",
      "_55 \t [[guaranteed], [to], [lose], [10-12], [lbs], [in], [30]]\n",
      "_70 \t [[to], [lose], [10-12], [lbs], [in], [30]]\n",
      "_83 \t [[lose], [10-12], [lbs], [in], [30]]\n",
      "_94 \t [[10-12], [lbs], [in], [30]]\n",
      "_103 \t [[lbs], [in], [30]]\n",
      "_110 \t [[in], [30]]\n",
      "_115 \t [[30]]\n",
      "_56 \t [[guaranteed], [to], [lose], [10-12], [lbs], [in], [30], [days]]\n",
      "_71 \t [[to], [lose], [10-12], [lbs], [in], [30], [days]]\n",
      "_84 \t [[lose], [10-12], [lbs], [in], [30], [days]]\n",
      "_95 \t [[10-12], [lbs], [in], [30], [days]]\n",
      "_104 \t [[lbs], [in], [30], [days]]\n",
      "_111 \t [[in], [30], [days]]\n",
      "_116 \t [[30], [days]]\n",
      "_119 \t [[days]]\n"
     ]
    }
   ],
   "source": [
    "print(\" \".join(background[2]))\n",
    "print('---------------------------------------------------')\n",
    "for convo in hdr.convolutions(\" \".join(background[2])):\n",
    "    elems = [cons for cons in convo[2] if cons.startswith('_')]\n",
    "    for elem in elems:\n",
    "        print(elem,\"\\t\",hdr.columns[elem][0].get_sequence_nodes())"
   ]
  },
  {
   "cell_type": "code",
   "execution_count": 62,
   "metadata": {},
   "outputs": [
    {
     "data": {
      "text/plain": [
       "[_1265, 10-12, _35]"
      ]
     },
     "execution_count": 62,
     "metadata": {},
     "output_type": "execute_result"
    }
   ],
   "source": [
    "hdr.columns['_35'][0].lasts[0].nexts"
   ]
  }
 ],
 "metadata": {
  "kernelspec": {
   "display_name": "Python 3",
   "language": "python",
   "name": "python3"
  },
  "language_info": {
   "codemirror_mode": {
    "name": "ipython",
    "version": 3
   },
   "file_extension": ".py",
   "mimetype": "text/x-python",
   "name": "python",
   "nbconvert_exporter": "python",
   "pygments_lexer": "ipython3",
   "version": "3.6.4"
  }
 },
 "nbformat": 4,
 "nbformat_minor": 2
}
