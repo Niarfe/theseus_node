{
 "cells": [
  {
   "cell_type": "markdown",
   "metadata": {},
   "source": [
    "# comparison to bayes from ds from scratch\n",
    "This gives 101 true positives (spam classified as “spam”), 33 false positives (ham classified\n",
    "as “spam”), 704 true negatives (ham classified as “ham”), and 38 false negatives\n",
    "(spam classified as “ham”). This means our precision is 101 / (101 + 33) = 75%, and\n",
    "our recall is 101 / (101 + 38) = 73%, which are not bad numbers for such a simple\n",
    "model.\n",
    "\n",
    "The spammiest words are “money,” “systemworks,” “rates,” “sale,” and “year,”"
   ]
  },
  {
   "cell_type": "code",
   "execution_count": 1,
   "metadata": {},
   "outputs": [],
   "source": [
    "import sys\n",
    "sys.path.append('/Users/niarfe/tmprepos/theseus_node')\n",
    "sys.path.append('/Users/niarfe/tmprepos/theseus_node/tests')\n",
    "sys.path.append('/Users/niarfe/tmprepos/hydraseq')\n",
    "\n",
    "import theseus\n",
    "import os\n",
    "import data\n",
    "import hydraseq as hd"
   ]
  },
  {
   "cell_type": "code",
   "execution_count": 2,
   "metadata": {},
   "outputs": [
    {
     "name": "stdout",
     "output_type": "stream",
     "text": [
      "\u001b[32mbackground.txt\u001b[m\u001b[m \u001b[32measy_ham.txt\u001b[m\u001b[m   \u001b[32mhard_ham.txt\u001b[m\u001b[m   \u001b[32mspam.txt\u001b[m\u001b[m\n",
      "498 2741 283 3522\n"
     ]
    }
   ],
   "source": [
    "! ls ../tests/data/\n",
    "spam     = data.load_per_line_file('../tests/data/spam.txt')\n",
    "easy_ham = data.load_per_line_file('../tests/data/easy_ham.txt')\n",
    "hard_ham = data.load_per_line_file('../tests/data/hard_ham.txt')\n",
    "background = spam + easy_ham + hard_ham\n",
    "print(len(spam), len(easy_ham), len(hard_ham), len(background))"
   ]
  },
  {
   "cell_type": "code",
   "execution_count": 3,
   "metadata": {},
   "outputs": [
    {
     "name": "stdout",
     "output_type": "stream",
     "text": [
      "done\n"
     ]
    }
   ],
   "source": [
    "n_background = theseus.Node(background)\n",
    "n_spam       = theseus.Node(spam)\n",
    "n_easy_ham   = theseus.Node(easy_ham)\n",
    "n_hard_ham   = theseus.Node(hard_ham)\n",
    "print('done')"
   ]
  },
  {
   "cell_type": "code",
   "execution_count": 4,
   "metadata": {
    "scrolled": true
   },
   "outputs": [
    {
     "data": {
      "image/png": "[encoded data removed]",
      "text/plain": [
       "<matplotlib.figure.Figure at 0x1069575c0>"
      ]
     },
     "metadata": {},
     "output_type": "display_data"
    },
    {
     "name": "stdout",
     "output_type": "stream",
     "text": [
      "top spam:  ['rates', 'home', 'systemworks', 'money', 'insurance', 'year', 'here', 'clearance', 'need', 'best']\n",
      "top easy:  ['o.t.', 'habeus', 'rh', 'sorting', 'silence', 'amendment', \"hanson's\", 'bad', 'recommended', '8']\n",
      "top hard:  ['shopper)', '(cnet', 'tech', 'july', 'daily', 'windows', 'news.com:', 'daily]', 'dilbert', '[anchordesk]']\n",
      "1\t0\t0\tmoney\n",
      "1\t0\t0\tsystemworks\n",
      "1\t0\t0\trates\n",
      "0\t0\t0\tsale\n",
      "1\t0\t0\tyear\n"
     ]
    }
   ],
   "source": [
    "n_spam.visualize(n_background, cutoff=100, magnification=20)\n",
    "\n",
    "ratio = 0.1\n",
    "f_spam = n_spam.create_profile(n_background, ratio=ratio)\n",
    "f_easy = n_easy_ham.create_profile(n_background, ratio=ratio)\n",
    "f_hard = n_hard_ham.create_profile(n_background, ratio=ratio)\n",
    "# The spammiest words are “money,” “systemworks,” “rates,” “sale,” and “year,”\n",
    "print(\"top spam: \", f_spam[:10])\n",
    "print(\"top easy: \", f_easy[:10])\n",
    "print(\"top hard: \", f_hard[:10])\n",
    "for word in ['money', 'systemworks', 'rates', 'sale', 'year']:\n",
    "    res = []\n",
    "    for fil in [f_spam, f_easy, f_hard]:\n",
    "        res.append(\"1\" if word in fil else \"0\")\n",
    "    res.append(word)\n",
    "    print(\"\\t\".join(res))"
   ]
  },
  {
   "cell_type": "code",
   "execution_count": 5,
   "metadata": {
    "scrolled": true
   },
   "outputs": [
    {
     "name": "stdout",
     "output_type": "stream",
     "text": [
      "starting\n",
      "spam\n"
     ]
    },
    {
     "ename": "AttributeError",
     "evalue": "module 'theseus.node' has no attribute 'count_hits'",
     "output_type": "error",
     "traceback": [
      "\u001b[0;31m---------------------------------------------------------------------------\u001b[0m",
      "\u001b[0;31mAttributeError\u001b[0m                            Traceback (most recent call last)",
      "\u001b[0;32m<ipython-input-5-179310fad166>\u001b[0m in \u001b[0;36m<module>\u001b[0;34m()\u001b[0m\n\u001b[1;32m      4\u001b[0m \u001b[0;32mfor\u001b[0m \u001b[0mtarget_filter\u001b[0m\u001b[0;34m,\u001b[0m \u001b[0mname\u001b[0m \u001b[0;32min\u001b[0m \u001b[0;34m[\u001b[0m\u001b[0;34m(\u001b[0m\u001b[0mf_spam\u001b[0m\u001b[0;34m,\u001b[0m \u001b[0;34m\"spam\"\u001b[0m\u001b[0;34m)\u001b[0m\u001b[0;34m,\u001b[0m \u001b[0;34m(\u001b[0m\u001b[0mf_hard\u001b[0m\u001b[0;34m,\u001b[0m \u001b[0;34m\"hard\"\u001b[0m\u001b[0;34m)\u001b[0m\u001b[0;34m,\u001b[0m \u001b[0;34m(\u001b[0m\u001b[0mf_easy\u001b[0m\u001b[0;34m,\u001b[0m \u001b[0;34m\"easy\"\u001b[0m\u001b[0;34m)\u001b[0m\u001b[0;34m]\u001b[0m\u001b[0;34m:\u001b[0m\u001b[0;34m\u001b[0m\u001b[0m\n\u001b[1;32m      5\u001b[0m     \u001b[0mprint\u001b[0m\u001b[0;34m(\u001b[0m\u001b[0mname\u001b[0m\u001b[0;34m)\u001b[0m\u001b[0;34m\u001b[0m\u001b[0m\n\u001b[0;32m----> 6\u001b[0;31m     \u001b[0msp\u001b[0m\u001b[0;34m,\u001b[0m \u001b[0mpercsp\u001b[0m \u001b[0;34m=\u001b[0m \u001b[0mtheseus\u001b[0m\u001b[0;34m.\u001b[0m\u001b[0mnode\u001b[0m\u001b[0;34m.\u001b[0m\u001b[0mcount_hits\u001b[0m\u001b[0;34m(\u001b[0m\u001b[0mspam\u001b[0m\u001b[0;34m,\u001b[0m     \u001b[0mtarget_filter\u001b[0m\u001b[0;34m,\u001b[0m \u001b[0mcutoff\u001b[0m\u001b[0;34m,\u001b[0m \u001b[0mdepth\u001b[0m\u001b[0;34m)\u001b[0m\u001b[0;34m\u001b[0m\u001b[0m\n\u001b[0m\u001b[1;32m      7\u001b[0m     \u001b[0mha\u001b[0m\u001b[0;34m,\u001b[0m \u001b[0mpercha\u001b[0m \u001b[0;34m=\u001b[0m \u001b[0mtheseus\u001b[0m\u001b[0;34m.\u001b[0m\u001b[0mnode\u001b[0m\u001b[0;34m.\u001b[0m\u001b[0mcount_hits\u001b[0m\u001b[0;34m(\u001b[0m\u001b[0mhard_ham\u001b[0m\u001b[0;34m,\u001b[0m \u001b[0mtarget_filter\u001b[0m\u001b[0;34m,\u001b[0m \u001b[0mcutoff\u001b[0m\u001b[0;34m,\u001b[0m \u001b[0mdepth\u001b[0m\u001b[0;34m)\u001b[0m\u001b[0;34m\u001b[0m\u001b[0m\n\u001b[1;32m      8\u001b[0m     \u001b[0mea\u001b[0m\u001b[0;34m,\u001b[0m \u001b[0mpercea\u001b[0m \u001b[0;34m=\u001b[0m \u001b[0mtheseus\u001b[0m\u001b[0;34m.\u001b[0m\u001b[0mnode\u001b[0m\u001b[0;34m.\u001b[0m\u001b[0mcount_hits\u001b[0m\u001b[0;34m(\u001b[0m\u001b[0measy_ham\u001b[0m\u001b[0;34m,\u001b[0m \u001b[0mtarget_filter\u001b[0m\u001b[0;34m,\u001b[0m \u001b[0mcutoff\u001b[0m\u001b[0;34m,\u001b[0m \u001b[0mdepth\u001b[0m\u001b[0;34m)\u001b[0m\u001b[0;34m\u001b[0m\u001b[0m\n",
      "\u001b[0;31mAttributeError\u001b[0m: module 'theseus.node' has no attribute 'count_hits'"
     ]
    }
   ],
   "source": [
    "print(\"starting\")\n",
    "cutoff =1\n",
    "depth = 100\n",
    "for target_filter, name in [(f_spam, \"spam\"), (f_hard, \"hard\"), (f_easy, \"easy\")]:\n",
    "    print(name)\n",
    "    sp, percsp = theseus.node.count_hits(spam,     target_filter, cutoff, depth)\n",
    "    ha, percha = theseus.node.count_hits(hard_ham, target_filter, cutoff, depth)\n",
    "    ea, percea = theseus.node.count_hits(easy_ham, target_filter, cutoff, depth)\n",
    "    print(sp, percsp, ha, percha, ea, percea)\n",
    "    print()\n"
   ]
  },
  {
   "cell_type": "code",
   "execution_count": null,
   "metadata": {},
   "outputs": [],
   "source": [
    "%%time\n",
    "# Populate the main hydra with EEEEEEverything!\n",
    "hdr = hd.Hydraseq('')\n",
    "print(\"total sentences \", len(background))\n",
    "#[hdr.full_insert(sentence) for sentence in background]\n",
    "hdr.full_self_insert_from(background)\n",
    "len(hdr.columns)"
   ]
  },
  {
   "cell_type": "code",
   "execution_count": null,
   "metadata": {},
   "outputs": [],
   "source": [
    "idx_elem = 10\n",
    "sentence = \" \".join(background[idx_elem])\n",
    "print(sentence)\n",
    "print('---------------------------------------------------')\n",
    "\n",
    "print(hdr.to_hydra_rep(sentence))\n",
    "\n",
    "def group_to_hydra_rep(group):\n",
    "    return [hdr.to_hydra_rep(sentence) for sentence in group]\n",
    "\n",
    "h_background =  group_to_hydra_rep(background)\n",
    "h_spam =        group_to_hydra_rep(spam)\n",
    "h_easy_ham =    group_to_hydra_rep(easy_ham)\n",
    "h_hard_ham =    group_to_hydra_rep(hard_ham)\n",
    "print(h_spam)"
   ]
  },
  {
   "cell_type": "code",
   "execution_count": null,
   "metadata": {},
   "outputs": [],
   "source": [
    "n_h_background = theseus.Node(h_background)\n",
    "n_h_spam = theseus.Node(h_spam)\n",
    "n_h_easy_ham = theseus.Node(h_easy_ham)\n",
    "n_h_hard_ham = theseus.Node(h_hard_ham)"
   ]
  },
  {
   "cell_type": "code",
   "execution_count": null,
   "metadata": {},
   "outputs": [],
   "source": [
    "cutoff = 1\n",
    "depth = 100\n",
    "target = f_spam\n",
    "theseus.node.count_hits(spam,     target, cutoff, depth)\n",
    "theseus.node.count_hits(hard_ham, target, cutoff, depth)\n",
    "theseus.node.count_hits(easy_ham, target, cutoff, depth);"
   ]
  },
  {
   "cell_type": "code",
   "execution_count": null,
   "metadata": {},
   "outputs": [],
   "source": [
    "theseus.node.visualize(n_easy_ham, n_background, axis_lims=(0.0, 1.0), magnification=10.0)"
   ]
  },
  {
   "cell_type": "code",
   "execution_count": null,
   "metadata": {},
   "outputs": [],
   "source": [
    "\n",
    "def get_spiral_dots(node1, node2, ratio):\n",
    "    x, y, keys = theseus.node.create_xy_table(node1, node2, cutoff1=100, cutoff2=100, ratio=ratio)\n",
    "    #print(len(x), len(y), len(keys))\n",
    "    cles = []\n",
    "    for row in zip(keys, zip(x, y)):\n",
    "        if row[1][1] != 0:\n",
    "            #print(row)\n",
    "            cles.append(row[0])\n",
    "        else:\n",
    "            cles.append(row[0])\n",
    "            #print(\"bad row \", row)\n",
    "    return cles\n",
    "\n",
    "ratio = 0.9\n",
    "spam_list = get_spiral_dots(n_h_spam,     n_h_background, ratio)\n",
    "easy_list = get_spiral_dots(n_h_easy_ham, n_h_background, ratio)\n",
    "hard_list = get_spiral_dots(n_h_hard_ham, n_h_background, ratio)\n",
    "\n",
    "def new_count_hits(group, lst, thold):\n",
    "    \"\"\"group list<list<str>> lst list, thold int\"\"\"\n",
    "    hits = 0\n",
    "    for sentence in group:\n",
    "        score = len(set(sentence) & set(lst))\n",
    "        if score > thold:\n",
    "            hits += 1\n",
    "    return hits\n",
    "\n",
    "print(\"background\", len(h_background))\n",
    "print(\"totals \", len(h_spam), len(h_easy_ham), len(h_hard_ham))\n",
    "thold = 4\n",
    "target = spam_list\n",
    "spamers  = new_count_hits(h_spam,     target, thold)\n",
    "easyhams = new_count_hits(h_easy_ham, target, thold)\n",
    "hardhams = new_count_hits(h_hard_ham, target, thold)\n",
    "print(\"hits   \",spamers, easyhams, hardhams)"
   ]
  }
 ],
 "metadata": {
  "kernelspec": {
   "display_name": "Python 3",
   "language": "python",
   "name": "python3"
  },
  "language_info": {
   "codemirror_mode": {
    "name": "ipython",
    "version": 3
   },
   "file_extension": ".py",
   "mimetype": "text/x-python",
   "name": "python",
   "nbconvert_exporter": "python",
   "pygments_lexer": "ipython3",
   "version": "3.6.4"
  }
 },
 "nbformat": 4,
 "nbformat_minor": 2
}
