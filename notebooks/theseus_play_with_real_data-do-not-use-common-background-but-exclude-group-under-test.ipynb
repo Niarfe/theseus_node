{
 "cells": [
  {
   "cell_type": "markdown",
   "metadata": {},
   "source": [
    "# comparison to bayes from ds from scratch\n",
    "This gives 101 true positives (spam classified as “spam”), 33 false positives (ham classified\n",
    "as “spam”), 704 true negatives (ham classified as “ham”), and 38 false negatives\n",
    "(spam classified as “ham”). This means our precision is 101 / (101 + 33) = 75%, and\n",
    "our recall is 101 / (101 + 38) = 73%, which are not bad numbers for such a simple\n",
    "model.\n",
    "\n",
    "The spammiest words are “money,” “systemworks,” “rates,” “sale,” and “year,”"
   ]
  },
  {
   "cell_type": "code",
   "execution_count": 1,
   "metadata": {},
   "outputs": [],
   "source": [
    "import theseus\n",
    "import os\n",
    "import hydraseq as hd"
   ]
  },
  {
   "cell_type": "code",
   "execution_count": 2,
   "metadata": {},
   "outputs": [
    {
     "name": "stdout",
     "output_type": "stream",
     "text": [
      "    3539 background.txt\r\n",
      "    2747 easy_ham.txt\r\n",
      "     283 hard_ham.txt\r\n",
      "     509 spam.txt\r\n",
      "    7078 total\r\n"
     ]
    }
   ],
   "source": [
    "# ! mkdir data\n",
    "# ! mv *.txt data/\n",
    "! cd data/; ls | xargs wc -l"
   ]
  },
  {
   "cell_type": "code",
   "execution_count": 3,
   "metadata": {},
   "outputs": [
    {
     "name": "stdout",
     "output_type": "stream",
     "text": [
      "\u001b[32mbackground.txt\u001b[m\u001b[m \u001b[32measy_ham.txt\u001b[m\u001b[m   \u001b[32mhard_ham.txt\u001b[m\u001b[m   \u001b[32mspam.txt\u001b[m\u001b[m\n",
      "498 3024\n"
     ]
    }
   ],
   "source": [
    "def load_documents(path_file):\n",
    "    documents = []\n",
    "    with open(path_file, 'rb') as source:\n",
    "        for line in source:\n",
    "            try:\n",
    "                documents.append(line.decode('utf-8').lower().strip().split()[1:])\n",
    "            except:\n",
    "                continue\n",
    "    return documents\n",
    "\n",
    "! ls data/\n",
    "spam     = load_documents('data/spam.txt')\n",
    "easy_ham = load_documents('data/easy_ham.txt')\n",
    "hard_ham = load_documents('data/hard_ham.txt')\n",
    "hams = easy_ham + hard_ham\n",
    "print(len(spam), len(hams))"
   ]
  },
  {
   "cell_type": "code",
   "execution_count": 4,
   "metadata": {},
   "outputs": [],
   "source": [
    "n_hams = theseus.Node(hams)\n",
    "n_spam = theseus.Node(spam)"
   ]
  },
  {
   "cell_type": "code",
   "execution_count": 5,
   "metadata": {},
   "outputs": [
    {
     "data": {
      "image/png": "[encoded data removed]",
      "text/plain": [
       "<Figure size 432x288 with 1 Axes>"
      ]
     },
     "metadata": {
      "needs_background": "light"
     },
     "output_type": "display_data"
    },
    {
     "name": "stdout",
     "output_type": "stream",
     "text": [
      "('money', (0.0036199095022624436, 0))\n",
      "top spam:  ['free', 'get', 'adv:', 'rates', 'home', 'best', '&', '[ilug-social]', 'low', 'systemworks']\n",
      "1\t0\tmoney\n",
      "1\t0\tsystemworks\n",
      "1\t0\trates\n",
      "0\t0\tsale\n",
      "1\t0\tyear\n"
     ]
    }
   ],
   "source": [
    "theseus.node.visualize(n_spam, n_hams, axis_lims=(0.0, 1.0), magnification=10.0)\n",
    "\n",
    "def create_filter(node_x, node_y, ratio=0.5):\n",
    "    x, y, keys = theseus.node.create_xy_table(node_x, node_y, cutoff1=100, cutoff2=100, ratio=ratio)\n",
    "    filter = []\n",
    "    for row in zip(keys, zip(x, y)):\n",
    "        if row[0] == 'money':\n",
    "            print(row)\n",
    "        filter.append(row[0])\n",
    "    return filter\n",
    "\n",
    "ratio = 0.05\n",
    "f_spam = create_filter(n_spam, n_hams, ratio=ratio)\n",
    "f_hams = create_filter(n_hams, n_spam, ratio=ratio)\n",
    "# The spammiest words are “money,” “systemworks,” “rates,” “sale,” and “year,”\n",
    "print(\"top spam: \", f_spam[:10])\n",
    "for word in ['money', 'systemworks', 'rates', 'sale', 'year']:\n",
    "    res = []\n",
    "    for fil in [f_spam, hams]:\n",
    "        res.append(\"1\" if word in fil else \"0\")\n",
    "    res.append(word)\n",
    "    print(\"\\t\".join(res))\n",
    "        \n",
    "    "
   ]
  },
  {
   "cell_type": "code",
   "execution_count": 21,
   "metadata": {
    "scrolled": true
   },
   "outputs": [
    {
     "name": "stdout",
     "output_type": "stream",
     "text": [
      "total spam:  498\n",
      "total hams:  3024\n",
      "     spam hams\n",
      "179 30\n",
      "     spam\thams\n",
      "spam 179 \t 319\n",
      "hams 30 \t 2994\n",
      "========================\n",
      "Precision =  0.8564593301435407  percent\n",
      "Recall    =  0.35943775100401604  percent\n",
      "F1 SCORE:  0.5063649222065063\n"
     ]
    }
   ],
   "source": [
    "def count_hits(group, fil, cutoff, depth):\n",
    "    area = fil[:depth]\n",
    "    hits = sum([1 for sentence in group if len([1 for w in sentence if w in area]) >= cutoff])\n",
    "    return hits\n",
    "        \n",
    "cutoff =2\n",
    "depth = 100\n",
    "print(\"total spam: \", len(spam))\n",
    "print(\"total hams: \", len(hams))\n",
    "print(\"     spam hams\")\n",
    "for target_filter, name in [(f_spam, \"spam\")]: #, (f_hams, \"hams\")]:\n",
    "    sp = count_hits(spam, target_filter, cutoff, depth)\n",
    "    ha = count_hits(hams, target_filter, cutoff, depth)\n",
    "    print(sp, ha)\n",
    "    print(\"     spam\\thams\")\n",
    "    print('spam', sp,  \"\\t\",         len(spam)-sp   )\n",
    "    print('hams', ha,  \"\\t\",         len(hams)-ha, )\n",
    "    print(\"========================\")\n",
    "\n",
    "#  101    38\n",
    "#  33     704\n",
    "# This gives 101 true positives (spam classified as “spam”),\n",
    "# 33 false positives (ham classified as “spam”),\n",
    "# 704 true negatives (ham classified as “ham”), and\n",
    "# 38 false negatives (spam classified as “ham”).\n",
    "# This means our precision is 101 / (101 + 33) = 75%, \n",
    "# and our recall is 101 / (101 + 38) = 73%,\n",
    "# which are not bad numbers for such a simple model.\n",
    "precision =  float(sp)/(sp + ha)\n",
    "recall = float(sp)/(sp + len(spam)-sp)\n",
    "print(\"Precision = \",  precision, \" percent\")\n",
    "print(\"Recall    = \",  recall,  \" percent\")\n",
    "print(\"F1 SCORE: \", float(2)*(precision * recall)/(precision + recall))"
   ]
  },
  {
   "cell_type": "code",
   "execution_count": 7,
   "metadata": {},
   "outputs": [],
   "source": [
    "# hdr = hd.Hydraseq('')\n",
    "# for sentence in background:\n",
    "#     hdr.full_insert(\" \".join(sentence))\n",
    "# len(hdr.columns)"
   ]
  },
  {
   "cell_type": "code",
   "execution_count": 8,
   "metadata": {},
   "outputs": [],
   "source": [
    "# idx_elem = 10\n",
    "# sentence = \" \".join(background[idx_elem])\n",
    "# print(sentence)\n",
    "# print('---------------------------------------------------')\n",
    "\n",
    "# def to_hydra_rep(sentence):\n",
    "#     patterns = []\n",
    "#     for convo in hdr.convolutions(sentence):\n",
    "#         #print(convo)\n",
    "#         elems = [cons for cons in convo[2] if cons.startswith('_')]\n",
    "#         for elem in elems:\n",
    "#             #print(elem, \"\\t\",hdr.columns[elem][0].get_sequence_nodes())\n",
    "#             patterns.append(elem)\n",
    "#     return patterns\n",
    "        \n",
    "# to_hydra_rep(sentence)\n",
    "\n",
    "# def group_to_hydra_rep(group):\n",
    "#     return [to_hydra_rep(sentence) for sentence in group]\n",
    "\n",
    "# h_background = group_to_hydra_rep(background)\n",
    "# h_spam = group_to_hydra_rep(spam)\n",
    "# h_easy_ham = group_to_hydra_rep(easy_ham)\n",
    "# h_hard_ham = group_to_hydra_rep(hard_ham)"
   ]
  },
  {
   "cell_type": "code",
   "execution_count": 9,
   "metadata": {},
   "outputs": [],
   "source": [
    "# n_h_background = theseus.Node(h_background)\n",
    "# n_h_spam = theseus.Node(h_spam)\n",
    "# n_h_easy_ham = theseus.Node(h_easy_ham)\n",
    "# n_h_hard_ham = theseus.Node(h_hard_ham)"
   ]
  },
  {
   "cell_type": "code",
   "execution_count": 10,
   "metadata": {},
   "outputs": [],
   "source": [
    "# limit = 10\n",
    "# ratio = 0.1\n",
    "# target = n_h_spam\n",
    "# count_hits(h_spam,     target, \"spam\",     limit, ratio)\n",
    "# count_hits(h_hard_ham, target, \"hard_ham\", limit, ratio)\n",
    "# count_hits(h_easy_ham, target, \"easy_ham\", limit, ratio)"
   ]
  },
  {
   "cell_type": "code",
   "execution_count": 11,
   "metadata": {},
   "outputs": [],
   "source": [
    "# theseus.node.visualize(n_h_spam, n_h_background, axis_lims=(0.0, 1.0), magnification=20.0)"
   ]
  },
  {
   "cell_type": "code",
   "execution_count": 12,
   "metadata": {},
   "outputs": [],
   "source": [
    "\n",
    "# def get_spiral_dots(node1, node2, ratio):\n",
    "#     x, y, keys = theseus.node.create_xy_table(node1, node2, cutoff1=100, cutoff2=100, ratio=ratio)\n",
    "#     #print(len(x), len(y), len(keys))\n",
    "#     cles = []\n",
    "#     for row in zip(keys, zip(x, y)):\n",
    "#         if row[1][1] != 0:\n",
    "#             #print(row)\n",
    "#             cles.append(row[0])\n",
    "#         else:\n",
    "#             cles.append(row[0])\n",
    "#             #print(\"bad row \", row)\n",
    "#     return cles\n",
    "\n",
    "# ratio = 0.9\n",
    "# spam_list = get_spiral_dots(n_h_spam, n_h_background, ratio)\n",
    "# easy_list = get_spiral_dots(n_h_easy_ham, n_h_background, ratio)\n",
    "# hard_list = get_spiral_dots(n_h_hard_ham, n_h_background, ratio)\n",
    "\n",
    "# def new_count_hits(group, lst, thold):\n",
    "#     hits = 0\n",
    "#     for sentence in group:\n",
    "#         score = len(set(sentence) & set(lst))\n",
    "#         if score > thold:\n",
    "#             hits += 1\n",
    "#     return hits\n",
    "\n",
    "# print(\"background\", len(h_background))\n",
    "# print(\"totals \", len(h_spam), len(h_easy_ham), len(h_hard_ham))\n",
    "# thold = 4\n",
    "# target = spam_list\n",
    "# spamers  = new_count_hits(h_spam,     target, thold)\n",
    "# easyhams = new_count_hits(h_easy_ham, target, thold)\n",
    "# hardhams = new_count_hits(h_hard_ham, target, thold)\n",
    "# print(\"hits   \",spamers, easyhams, hardhams)"
   ]
  }
 ],
 "metadata": {
  "kernelspec": {
   "display_name": "Python 3",
   "language": "python",
   "name": "python3"
  },
  "language_info": {
   "codemirror_mode": {
    "name": "ipython",
    "version": 3
   },
   "file_extension": ".py",
   "mimetype": "text/x-python",
   "name": "python",
   "nbconvert_exporter": "python",
   "pygments_lexer": "ipython3",
   "version": "3.6.4"
  }
 },
 "nbformat": 4,
 "nbformat_minor": 2
}
