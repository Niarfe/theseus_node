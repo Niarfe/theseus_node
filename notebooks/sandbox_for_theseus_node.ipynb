{
 "cells": [
  {
   "cell_type": "code",
   "execution_count": 1,
   "metadata": {},
   "outputs": [],
   "source": [
    "import theseus\n",
    "import sys\n",
    "sys.path.append('tests/')\n",
    "import data\n",
    "import matplotlib.pyplot as plt"
   ]
  },
  {
   "cell_type": "code",
   "execution_count": 2,
   "metadata": {},
   "outputs": [],
   "source": [
    "newz = [data.get_usable_text(obj) for obj in data.news]\n",
    "\n",
    "background = theseus.Node(newz)\n",
    "idx = 3\n",
    "cutoff = 100\n",
    "ratio = 0.1\n",
    "first = theseus.Node(newz[idx:idx+1])"
   ]
  },
  {
   "cell_type": "code",
   "execution_count": 3,
   "metadata": {},
   "outputs": [
    {
     "name": "stdout",
     "output_type": "stream",
     "text": [
      "('we', (0.012987012987012988, 0))\n",
      "('have', (0.012987012987012988, 0))\n",
      "('look', (0.012987012987012988, 0))\n",
      "('play', (0.012987012987012988, 0))\n",
      "('advance', (0.012987012987012988, 0))\n",
      "('caucuses', (0.012987012987012988, 0))\n",
      "('which', (0.012987012987012988, 0))\n",
      "('kick', (0.012987012987012988, 0))\n",
      "('off', (0.012987012987012988, 0))\n",
      "('roughly', (0.012987012987012988, 0))\n",
      "(\"year's\", (0.012987012987012988, 0))\n",
      "('time.', (0.012987012987012988, 0))\n",
      "('point', (0.012987012987012988, 0))\n",
      "('now', (0.012987012987012988, 0))\n",
      "('youtube!', (0.012987012987012988, 0))\n",
      "('each', (0.012987012987012988, 0))\n",
      "('episode', (0.012987012987012988, 0))\n",
      "('weekly', (0.012987012987012988, 0))\n",
      "('youtube', (0.012987012987012988, 0))\n",
      "('show,', (0.012987012987012988, 0))\n",
      "('delve', (0.012987012987012988, 0))\n",
      "('little', (0.012987012987012988, 0))\n",
      "('deeper', (0.012987012987012988, 0))\n",
      "('into', (0.012987012987012988, 0))\n",
      "('surreal', (0.012987012987012988, 0))\n",
      "('politics.', (0.012987012987012988, 0))\n",
      "('click', (0.012987012987012988, 0))\n",
      "('subscribe!', (0.012987012987012988, 0))\n",
      "('cillizza,', (0.012987012987012988, 0))\n",
      "('editor-at-large', (0.012987012987012988, 0))\n",
      "('5', (0.012987012987012988, 0))\n",
      "('takeaways', (0.012987012987012988, 0))\n",
      "('from', (0.012987012987012988, 0))\n",
      "('new', (0.012987012987012988, 0))\n",
      "('register', (0.012987012987012988, 0))\n",
      "newz[idx]  we have the first look at the state of play in iowa in advance of the caucuses -- which will kick off the 2020 democratic presidential nomination in roughly a year's time. the point -- now on youtube! in each episode of his weekly youtube show, chris cillizza will delve a little deeper into the surreal world of politics. click to subscribe! analysis by chris cillizza, cnn editor-at-large 5 takeaways from the new cnn/des moines register poll\n"
     ]
    },
    {
     "data": {
      "image/png": "[encoded data removed]",
      "text/plain": [
       "<Figure size 432x288 with 1 Axes>"
      ]
     },
     "metadata": {
      "needs_background": "light"
     },
     "output_type": "display_data"
    }
   ],
   "source": [
    "x, y, keys = theseus.node.create_xy_table(first, background, cutoff=cutoff, ratio=ratio)\n",
    "for row in zip(keys, zip(x, y)):\n",
    "    print(row)\n",
    "print(\"newz[idx] \", \" \".join(newz[idx]))\n",
    "theseus.node.visualize(first, background, axis_lims=(0.0, 1.0), magnification=10.0)"
   ]
  }
 ],
 "metadata": {
  "kernelspec": {
   "display_name": "Python 3",
   "language": "python",
   "name": "python3"
  },
  "language_info": {
   "codemirror_mode": {
    "name": "ipython",
    "version": 3
   },
   "file_extension": ".py",
   "mimetype": "text/x-python",
   "name": "python",
   "nbconvert_exporter": "python",
   "pygments_lexer": "ipython3",
   "version": "3.6.4"
  }
 },
 "nbformat": 4,
 "nbformat_minor": 2
}
