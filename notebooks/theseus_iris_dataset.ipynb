{
 "cells": [
  {
   "cell_type": "markdown",
   "metadata": {},
   "source": [
    "# End to end example"
   ]
  },
  {
   "cell_type": "code",
   "execution_count": 1,
   "metadata": {},
   "outputs": [
    {
     "name": "stdout",
     "output_type": "stream",
     "text": [
      "/Users/niarfe/tmprepos/hydra_inc/theseus_node/notebooks\r\n"
     ]
    }
   ],
   "source": [
    "! pwd\n",
    "import sys\n",
    "sys.path.append('/Users/niarfe/tmprepos/hydra_inc/theseus_node')\n",
    "sys.path.append('/Users/niarfe/tmprepos/hydra_inc/theseus_node/tests')\n",
    "sys.path.append('/Users/niarfe/tmprepos/hydra_inc/hydraseq')\n",
    "\n",
    "import theseus\n",
    "import os\n",
    "import data\n",
    "import hydraseq as hdh"
   ]
  },
  {
   "cell_type": "code",
   "execution_count": 2,
   "metadata": {},
   "outputs": [
    {
     "name": "stdout",
     "output_type": "stream",
     "text": [
      "iris_data.csv\n",
      "     150 iris_data.csv\n"
     ]
    },
    {
     "ename": "KeyError",
     "evalue": "'Species'",
     "output_type": "error",
     "traceback": [
      "\u001b[0;31m---------------------------------------------------------------------------\u001b[0m",
      "\u001b[0;31mKeyError\u001b[0m                                  Traceback (most recent call last)",
      "\u001b[0;32m<ipython-input-2-978602eb3b43>\u001b[0m in \u001b[0;36m<module>\u001b[0;34m()\u001b[0m\n\u001b[1;32m     10\u001b[0m             \u001b[0;34m'Iris-versicolor'\u001b[0m\u001b[0;34m:\u001b[0m \u001b[0mvers\u001b[0m\u001b[0;34m,\u001b[0m\u001b[0;34m\u001b[0m\u001b[0m\n\u001b[1;32m     11\u001b[0m             \u001b[0;34m'Iris-virginica'\u001b[0m\u001b[0;34m:\u001b[0m  \u001b[0mvirg\u001b[0m\u001b[0;34m\u001b[0m\u001b[0m\n\u001b[0;32m---> 12\u001b[0;31m         }[line.split(',')[-1].strip()]\n\u001b[0m\u001b[1;32m     13\u001b[0m         \u001b[0marr\u001b[0m\u001b[0;34m.\u001b[0m\u001b[0mappend\u001b[0m\u001b[0;34m(\u001b[0m\u001b[0;34m[\u001b[0m\u001b[0mf\u001b[0m\u001b[0;34m+\u001b[0m\u001b[0mm\u001b[0m \u001b[0;32mfor\u001b[0m \u001b[0mm\u001b[0m\u001b[0;34m,\u001b[0m \u001b[0mf\u001b[0m \u001b[0;32min\u001b[0m \u001b[0mzip\u001b[0m\u001b[0;34m(\u001b[0m\u001b[0mline\u001b[0m\u001b[0;34m.\u001b[0m\u001b[0msplit\u001b[0m\u001b[0;34m(\u001b[0m\u001b[0;34m','\u001b[0m\u001b[0;34m)\u001b[0m\u001b[0;34m[\u001b[0m\u001b[0;34m:\u001b[0m\u001b[0;34m-\u001b[0m\u001b[0;36m1\u001b[0m\u001b[0;34m]\u001b[0m\u001b[0;34m,\u001b[0m \u001b[0;34m[\u001b[0m\u001b[0;34m'a'\u001b[0m\u001b[0;34m,\u001b[0m\u001b[0;34m'b'\u001b[0m\u001b[0;34m,\u001b[0m\u001b[0;34m'c'\u001b[0m\u001b[0;34m,\u001b[0m\u001b[0;34m'd'\u001b[0m\u001b[0;34m]\u001b[0m\u001b[0;34m)\u001b[0m\u001b[0;34m]\u001b[0m\u001b[0;34m)\u001b[0m\u001b[0;34m\u001b[0m\u001b[0m\n\u001b[1;32m     14\u001b[0m         \u001b[0mfull\u001b[0m\u001b[0;34m.\u001b[0m\u001b[0mappend\u001b[0m\u001b[0;34m(\u001b[0m\u001b[0;34m[\u001b[0m\u001b[0mf\u001b[0m\u001b[0;34m+\u001b[0m\u001b[0mm\u001b[0m \u001b[0;32mfor\u001b[0m \u001b[0mm\u001b[0m\u001b[0;34m,\u001b[0m \u001b[0mf\u001b[0m \u001b[0;32min\u001b[0m \u001b[0mzip\u001b[0m\u001b[0;34m(\u001b[0m\u001b[0mline\u001b[0m\u001b[0;34m.\u001b[0m\u001b[0msplit\u001b[0m\u001b[0;34m(\u001b[0m\u001b[0;34m','\u001b[0m\u001b[0;34m)\u001b[0m\u001b[0;34m[\u001b[0m\u001b[0;34m:\u001b[0m\u001b[0;34m-\u001b[0m\u001b[0;36m1\u001b[0m\u001b[0;34m]\u001b[0m\u001b[0;34m,\u001b[0m \u001b[0;34m[\u001b[0m\u001b[0;34m'a'\u001b[0m\u001b[0;34m,\u001b[0m\u001b[0;34m'b'\u001b[0m\u001b[0;34m,\u001b[0m\u001b[0;34m'c'\u001b[0m\u001b[0;34m,\u001b[0m\u001b[0;34m'd'\u001b[0m\u001b[0;34m]\u001b[0m\u001b[0;34m)\u001b[0m\u001b[0;34m]\u001b[0m\u001b[0;34m)\u001b[0m\u001b[0;34m\u001b[0m\u001b[0m\n",
      "\u001b[0;31mKeyError\u001b[0m: 'Species'"
     ]
    }
   ],
   "source": [
    "! ls ../tests/data/iris\n",
    "! cd ../tests/data/iris; wc -l iris_data.csv\n",
    "seto, virg, vers = [], [], []\n",
    "full = []\n",
    "hydrav = []\n",
    "with open('../tests/data/iris/iris_data.csv', 'r') as source:\n",
    "    for line in source:\n",
    "        arr = {\n",
    "            'Iris-setosa':     seto,\n",
    "            'Iris-versicolor': vers,\n",
    "            'Iris-virginica':  virg\n",
    "        }[line.split(',')[-1].strip()]\n",
    "        arr.append([f+m for m, f in zip(line.split(',')[:-1], ['a','b','c','d'])])\n",
    "        full.append([f+m for m, f in zip(line.split(',')[:-1], ['a','b','c','d'])])\n",
    "        hydrav.append([e.strip() for e in line.split(',')])\n",
    "\n",
    "print('done')"
   ]
  },
  {
   "cell_type": "code",
   "execution_count": null,
   "metadata": {},
   "outputs": [],
   "source": [
    "n_seto = theseus.Node(seto)\n",
    "n_virg = theseus.Node(virg)\n",
    "n_vers = theseus.Node(vers)\n",
    "n_back = theseus.Node(seto + vers + virg)\n",
    "print('done')"
   ]
  },
  {
   "cell_type": "code",
   "execution_count": null,
   "metadata": {},
   "outputs": [],
   "source": [
    "n_seto.visualize(n_back, cutoff=100, magnification=10)\n",
    "n_virg.visualize(n_back, cutoff=100, magnification=10)\n",
    "n_vers.visualize(n_back, cutoff=100, magnification=10)"
   ]
  },
  {
   "cell_type": "code",
   "execution_count": null,
   "metadata": {
    "scrolled": false
   },
   "outputs": [],
   "source": [
    "ratio = 0.5\n",
    "f_seto = n_seto.create_profile(n_back, ratio=ratio)\n",
    "f_virg = n_virg.create_profile(n_back, ratio=ratio)\n",
    "f_vers = n_vers.create_profile(n_back, ratio=ratio)\n",
    "# The spammiest words are “money,” “systemworks,” “rates,” “sale,” and “year,”\n",
    "print(\"top seto: \", \"|\".join(f_seto[:15]))\n",
    "print(\"top virg: \", \"|\".join(f_virg[:15]))\n",
    "print(\"top vers: \", \"|\".join(f_vers[:15]))"
   ]
  },
  {
   "cell_type": "code",
   "execution_count": null,
   "metadata": {},
   "outputs": [],
   "source": [
    "# print(\"starting\")\n",
    "cutoff =1\n",
    "depth = 100\n",
    "\n",
    "ratio = 0.9\n",
    "n_standard = n_back\n",
    "raw_lists = seto + vers + virg\n",
    "print(\"Len background lists: \", len(raw_lists))\n",
    "arr = [[],[],[]]\n",
    "itr = 0\n",
    "allhits = []\n",
    "for node in [n_seto, n_virg, n_vers]:\n",
    "    node.create_profile(n_standard, ratio=ratio)\n",
    "    hits = []\n",
    "    which = []\n",
    "    for cutoff in range(2,5):\n",
    "        node.cutoff = cutoff\n",
    "        hits.append(sum([1 for sentence in raw_lists if node.predict(sentence[:])]))\n",
    "        which.append(\"\".join(['#' if node.predict(sentence[:]) else '-' for sentence in raw_lists]))\n",
    "    #print(hits)\n",
    "    allhits.append(hits)\n",
    "    #print(which)\n",
    "    arr[itr] = which\n",
    "    itr += 1\n",
    "\n",
    "print(allhits)\n",
    "with open('res.csv', 'w') as target:\n",
    "    for idx in range(len(arr[0][0])):\n",
    "        target.write(\" \".join([arr[0][0][idx], arr[1][0][idx], arr[2][0][idx], str(raw_lists[idx]), \"\\n\"]))\n",
    "! code res.csv"
   ]
  },
  {
   "cell_type": "code",
   "execution_count": null,
   "metadata": {},
   "outputs": [],
   "source": [
    "#%%time\n",
    "# Populate the main hydra with EEEEEEverything!\n",
    "hdr = hd.Hydraseq('')\n",
    "print(\"total sentences \", len(hydrav))\n",
    "#[hdr.full_insert(sentence) for sentence in background]\n",
    "for row in hydrav:\n",
    "    hdr.insert(\" \".join(row))\n",
    "len(hdr.columns)"
   ]
  },
  {
   "cell_type": "code",
   "execution_count": null,
   "metadata": {},
   "outputs": [],
   "source": [
    "print(hdr.reset().next_nodes)\n",
    "print()\n",
    "for n in hdr.reset().next_nodes:\n",
    "    print(n, n.nexts)"
   ]
  },
  {
   "cell_type": "code",
   "execution_count": null,
   "metadata": {},
   "outputs": [],
   "source": [
    "idx_elem = 10\n",
    "sentence = \" \".join(background[idx_elem])\n",
    "print(sentence)\n",
    "print('---------------------------------------------------')\n",
    "\n",
    "print(hdr.to_hydra_rep(sentence))\n",
    "\n",
    "def group_to_hydra_rep(group):\n",
    "    return [hdr.to_hydra_rep(sentence) for sentence in group]\n",
    "\n",
    "h_background =  group_to_hydra_rep(background)\n",
    "h_spam =        group_to_hydra_rep(spam)\n",
    "h_easy_ham =    group_to_hydra_rep(easy_ham)\n",
    "h_hard_ham =    group_to_hydra_rep(hard_ham)\n",
    "print(h_spam)"
   ]
  },
  {
   "cell_type": "code",
   "execution_count": null,
   "metadata": {},
   "outputs": [],
   "source": [
    "n_h_background = theseus.Node(h_background)\n",
    "n_h_spam = theseus.Node(h_spam)\n",
    "n_h_easy_ham = theseus.Node(h_easy_ham)\n",
    "n_h_hard_ham = theseus.Node(h_hard_ham)"
   ]
  },
  {
   "cell_type": "code",
   "execution_count": null,
   "metadata": {},
   "outputs": [],
   "source": [
    "cutoff = 1\n",
    "depth = 100\n",
    "target = f_spam\n",
    "theseus.node.count_hits(spam,     target, cutoff, depth)\n",
    "theseus.node.count_hits(hard_ham, target, cutoff, depth)\n",
    "theseus.node.count_hits(easy_ham, target, cutoff, depth);"
   ]
  },
  {
   "cell_type": "code",
   "execution_count": null,
   "metadata": {},
   "outputs": [],
   "source": [
    "theseus.node.visualize(n_easy_ham, n_background, axis_lims=(0.0, 1.0), magnification=10.0)"
   ]
  },
  {
   "cell_type": "code",
   "execution_count": null,
   "metadata": {},
   "outputs": [],
   "source": [
    "\n",
    "def get_spiral_dots(node1, node2, ratio):\n",
    "    x, y, keys = theseus.node.create_xy_table(node1, node2, cutoff1=100, cutoff2=100, ratio=ratio)\n",
    "    #print(len(x), len(y), len(keys))\n",
    "    cles = []\n",
    "    for row in zip(keys, zip(x, y)):\n",
    "        if row[1][1] != 0:\n",
    "            #print(row)\n",
    "            cles.append(row[0])\n",
    "        else:\n",
    "            cles.append(row[0])\n",
    "            #print(\"bad row \", row)\n",
    "    return cles\n",
    "\n",
    "ratio = 0.9\n",
    "spam_list = get_spiral_dots(n_h_spam,     n_h_background, ratio)\n",
    "easy_list = get_spiral_dots(n_h_easy_ham, n_h_background, ratio)\n",
    "hard_list = get_spiral_dots(n_h_hard_ham, n_h_background, ratio)\n",
    "\n",
    "def new_count_hits(group, lst, thold):\n",
    "    \"\"\"group list<list<str>> lst list, thold int\"\"\"\n",
    "    hits = 0\n",
    "    for sentence in group:\n",
    "        score = len(set(sentence) & set(lst))\n",
    "        if score > thold:\n",
    "            hits += 1\n",
    "    return hits\n",
    "\n",
    "print(\"background\", len(h_background))\n",
    "print(\"totals \", len(h_spam), len(h_easy_ham), len(h_hard_ham))\n",
    "thold = 4\n",
    "target = spam_list\n",
    "spamers  = new_count_hits(h_spam,     target, thold)\n",
    "easyhams = new_count_hits(h_easy_ham, target, thold)\n",
    "hardhams = new_count_hits(h_hard_ham, target, thold)\n",
    "print(\"hits   \",spamers, easyhams, hardhams)"
   ]
  },
  {
   "cell_type": "code",
   "execution_count": 6,
   "metadata": {},
   "outputs": [
    {
     "data": {
      "text/plain": [
       "[<theseus.node.Node at 0x1067480f0>,\n",
       " <theseus.node.Node at 0x10675c898>,\n",
       " <theseus.node.Node at 0x10675cb00>]"
      ]
     },
     "execution_count": 6,
     "metadata": {},
     "output_type": "execute_result"
    }
   ],
   "source": [
    "from collections import defaultdict\n",
    "import csv\n",
    "headers = True\n",
    "target_col=\"Species\"\n",
    "features = defaultdict(list)\n",
    "\n",
    "with open('../tests/data/iris/iris_data.csv', 'r') as fhandle:\n",
    "    source = csv.DictReader(fhandle) if headers else fhandle\n",
    "    for line in source:\n",
    "        features[line[target_col]].append([str(key)+'-'+str(value) for key, value in line.items() if key != target_col])\n",
    "\n",
    "nodes = [theseus.Node(documents=documents, name=name) for name, documents in features.items()]\n",
    "\n",
    "nodes"
   ]
  }
 ],
 "metadata": {
  "kernelspec": {
   "display_name": "Python 3",
   "language": "python",
   "name": "python3"
  },
  "language_info": {
   "codemirror_mode": {
    "name": "ipython",
    "version": 3
   },
   "file_extension": ".py",
   "mimetype": "text/x-python",
   "name": "python",
   "nbconvert_exporter": "python",
   "pygments_lexer": "ipython3",
   "version": "3.6.4"
  }
 },
 "nbformat": 4,
 "nbformat_minor": 2
}
